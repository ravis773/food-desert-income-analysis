{
 "cells": [
  {
   "cell_type": "code",
   "execution_count": 1,
   "metadata": {
    "collapsed": true
   },
   "outputs": [],
   "source": [
    "import numpy as np\n",
    "import pandas as pd\n",
    "import seaborn as sns\n",
    "import matplotlib.pyplot as plt"
   ]
  },
  {
   "cell_type": "code",
   "execution_count": 2,
   "metadata": {},
   "outputs": [
    {
     "data": {
      "text/html": [
       "<div>\n",
       "<style>\n",
       "    .dataframe thead tr:only-child th {\n",
       "        text-align: right;\n",
       "    }\n",
       "\n",
       "    .dataframe thead th {\n",
       "        text-align: left;\n",
       "    }\n",
       "\n",
       "    .dataframe tbody tr th {\n",
       "        vertical-align: top;\n",
       "    }\n",
       "</style>\n",
       "<table border=\"1\" class=\"dataframe\">\n",
       "  <thead>\n",
       "    <tr style=\"text-align: right;\">\n",
       "      <th></th>\n",
       "      <th>FIPS</th>\n",
       "      <th>State</th>\n",
       "      <th>County</th>\n",
       "      <th>Population</th>\n",
       "      <th>Hispanic</th>\n",
       "      <th>White</th>\n",
       "      <th>Black</th>\n",
       "      <th>Native</th>\n",
       "      <th>Asian</th>\n",
       "      <th>Pacific</th>\n",
       "      <th>Income</th>\n",
       "      <th>Poverty</th>\n",
       "      <th>Unemployment</th>\n",
       "      <th>Civilian Labor Force</th>\n",
       "      <th>Grocery Stores</th>\n",
       "      <th>Supercenters</th>\n",
       "      <th>Convenience Stores</th>\n",
       "      <th>Specialty Stores</th>\n",
       "      <th>Total Stores</th>\n",
       "    </tr>\n",
       "  </thead>\n",
       "  <tbody>\n",
       "    <tr>\n",
       "      <th>0</th>\n",
       "      <td>1001</td>\n",
       "      <td>Alabama</td>\n",
       "      <td>Autauga</td>\n",
       "      <td>55035</td>\n",
       "      <td>2.6</td>\n",
       "      <td>75.8</td>\n",
       "      <td>18.5</td>\n",
       "      <td>0.4</td>\n",
       "      <td>1.0</td>\n",
       "      <td>0.0</td>\n",
       "      <td>51281.0</td>\n",
       "      <td>12.9</td>\n",
       "      <td>7.6</td>\n",
       "      <td>25602</td>\n",
       "      <td>4</td>\n",
       "      <td>1</td>\n",
       "      <td>30</td>\n",
       "      <td>2</td>\n",
       "      <td>37</td>\n",
       "    </tr>\n",
       "    <tr>\n",
       "      <th>1</th>\n",
       "      <td>1003</td>\n",
       "      <td>Alabama</td>\n",
       "      <td>Baldwin</td>\n",
       "      <td>203690</td>\n",
       "      <td>4.5</td>\n",
       "      <td>83.1</td>\n",
       "      <td>9.5</td>\n",
       "      <td>0.6</td>\n",
       "      <td>0.7</td>\n",
       "      <td>0.0</td>\n",
       "      <td>50254.0</td>\n",
       "      <td>13.4</td>\n",
       "      <td>7.5</td>\n",
       "      <td>87705</td>\n",
       "      <td>29</td>\n",
       "      <td>6</td>\n",
       "      <td>118</td>\n",
       "      <td>26</td>\n",
       "      <td>179</td>\n",
       "    </tr>\n",
       "    <tr>\n",
       "      <th>2</th>\n",
       "      <td>1005</td>\n",
       "      <td>Alabama</td>\n",
       "      <td>Barbour</td>\n",
       "      <td>26270</td>\n",
       "      <td>4.6</td>\n",
       "      <td>46.2</td>\n",
       "      <td>46.7</td>\n",
       "      <td>0.2</td>\n",
       "      <td>0.4</td>\n",
       "      <td>0.0</td>\n",
       "      <td>32964.0</td>\n",
       "      <td>26.7</td>\n",
       "      <td>17.6</td>\n",
       "      <td>8609</td>\n",
       "      <td>5</td>\n",
       "      <td>1</td>\n",
       "      <td>19</td>\n",
       "      <td>2</td>\n",
       "      <td>27</td>\n",
       "    </tr>\n",
       "    <tr>\n",
       "      <th>3</th>\n",
       "      <td>1007</td>\n",
       "      <td>Alabama</td>\n",
       "      <td>Bibb</td>\n",
       "      <td>22561</td>\n",
       "      <td>2.2</td>\n",
       "      <td>74.5</td>\n",
       "      <td>21.4</td>\n",
       "      <td>0.4</td>\n",
       "      <td>0.1</td>\n",
       "      <td>0.0</td>\n",
       "      <td>38678.0</td>\n",
       "      <td>16.8</td>\n",
       "      <td>8.3</td>\n",
       "      <td>8572</td>\n",
       "      <td>5</td>\n",
       "      <td>1</td>\n",
       "      <td>15</td>\n",
       "      <td>1</td>\n",
       "      <td>22</td>\n",
       "    </tr>\n",
       "    <tr>\n",
       "      <th>4</th>\n",
       "      <td>1009</td>\n",
       "      <td>Alabama</td>\n",
       "      <td>Blount</td>\n",
       "      <td>57676</td>\n",
       "      <td>8.6</td>\n",
       "      <td>87.9</td>\n",
       "      <td>1.5</td>\n",
       "      <td>0.3</td>\n",
       "      <td>0.1</td>\n",
       "      <td>0.0</td>\n",
       "      <td>45813.0</td>\n",
       "      <td>16.7</td>\n",
       "      <td>7.7</td>\n",
       "      <td>24473</td>\n",
       "      <td>6</td>\n",
       "      <td>1</td>\n",
       "      <td>27</td>\n",
       "      <td>0</td>\n",
       "      <td>34</td>\n",
       "    </tr>\n",
       "  </tbody>\n",
       "</table>\n",
       "</div>"
      ],
      "text/plain": [
       "   FIPS    State   County  Population  Hispanic  White  Black  Native  Asian  \\\n",
       "0  1001  Alabama  Autauga       55035       2.6   75.8   18.5     0.4    1.0   \n",
       "1  1003  Alabama  Baldwin      203690       4.5   83.1    9.5     0.6    0.7   \n",
       "2  1005  Alabama  Barbour       26270       4.6   46.2   46.7     0.2    0.4   \n",
       "3  1007  Alabama     Bibb       22561       2.2   74.5   21.4     0.4    0.1   \n",
       "4  1009  Alabama   Blount       57676       8.6   87.9    1.5     0.3    0.1   \n",
       "\n",
       "   Pacific   Income  Poverty  Unemployment  Civilian Labor Force  \\\n",
       "0      0.0  51281.0     12.9           7.6                 25602   \n",
       "1      0.0  50254.0     13.4           7.5                 87705   \n",
       "2      0.0  32964.0     26.7          17.6                  8609   \n",
       "3      0.0  38678.0     16.8           8.3                  8572   \n",
       "4      0.0  45813.0     16.7           7.7                 24473   \n",
       "\n",
       "   Grocery Stores  Supercenters  Convenience Stores  Specialty Stores  \\\n",
       "0               4             1                  30                 2   \n",
       "1              29             6                 118                26   \n",
       "2               5             1                  19                 2   \n",
       "3               5             1                  15                 1   \n",
       "4               6             1                  27                 0   \n",
       "\n",
       "   Total Stores  \n",
       "0            37  \n",
       "1           179  \n",
       "2            27  \n",
       "3            22  \n",
       "4            34  "
      ]
     },
     "execution_count": 2,
     "metadata": {},
     "output_type": "execute_result"
    }
   ],
   "source": [
    "data = pd.read_csv('data/cleaned_counties.csv')\n",
    "data.head()"
   ]
  },
  {
   "cell_type": "code",
   "execution_count": 6,
   "metadata": {},
   "outputs": [
    {
     "data": {
      "image/png": "[encoded data removed]",
      "text/plain": [
       "<matplotlib.figure.Figure at 0x1064e5550>"
      ]
     },
     "metadata": {},
     "output_type": "display_data"
    }
   ],
   "source": [
    "plt.scatter(data[\"Population\"], data[\"Total Stores\"])\n",
    "plt.title(\"Population vs. Number of Stores per County\")\n",
    "plt.xlabel(\"Population\")\n",
    "plt.ylabel(\"Number of Stores\")\n",
    "plt.show()"
   ]
  },
  {
   "cell_type": "markdown",
   "metadata": {},
   "source": [
    "As population increases, so do the total number of grocery stores."
   ]
  },
  {
   "cell_type": "code",
   "execution_count": 12,
   "metadata": {},
   "outputs": [
    {
     "data": {
      "image/png": "[encoded data removed]",
      "text/plain": [
       "<matplotlib.figure.Figure at 0x112725908>"
      ]
     },
     "metadata": {},
     "output_type": "display_data"
    }
   ],
   "source": [
    "plt.scatter(data[\"Poverty\"], data['Population']/data[\"Total Stores\"])\n",
    "plt.title(\"Poverty Rate vs. People per Store per County\")\n",
    "plt.xlabel(\"Poverty Rate\")\n",
    "plt.ylabel(\"Number of People per Store\")\n",
    "plt.show()"
   ]
  },
  {
   "cell_type": "markdown",
   "metadata": {},
   "source": [
    "There does not seem to be any connection between the poverty rate and the number of people per grocery store. There is one outlier which might be interesting to investigate."
   ]
  },
  {
   "cell_type": "code",
   "execution_count": 14,
   "metadata": {},
   "outputs": [
    {
     "data": {
      "image/png": "[encoded data removed]",
      "text/plain": [
       "<matplotlib.figure.Figure at 0x11292cd68>"
      ]
     },
     "metadata": {},
     "output_type": "display_data"
    }
   ],
   "source": [
    "plt.scatter(data[\"Unemployment\"], data['Population']/data[\"Total Stores\"])\n",
    "plt.title(\"Unemployment Rate vs. People per Store per County\")\n",
    "plt.xlabel(\"Unemployment Rate\")\n",
    "plt.ylabel(\"Number of People per Stores\") \n",
    "plt.show()"
   ]
  },
  {
   "cell_type": "markdown",
   "metadata": {},
   "source": [
    "There does not seem to be any connection between the unemployment rate and the number of people per grocery store. There is one outlier which might be interesting to investigate."
   ]
  },
  {
   "cell_type": "code",
   "execution_count": null,
   "metadata": {
    "collapsed": true
   },
   "outputs": [],
   "source": []
  }
 ],
 "metadata": {
  "kernelspec": {
   "display_name": "Python 3",
   "language": "python",
   "name": "python3"
  },
  "language_info": {
   "codemirror_mode": {
    "name": "ipython",
    "version": 3
   },
   "file_extension": ".py",
   "mimetype": "text/x-python",
   "name": "python",
   "nbconvert_exporter": "python",
   "pygments_lexer": "ipython3",
   "version": "3.5.4"
  }
 },
 "nbformat": 4,
 "nbformat_minor": 2
}
